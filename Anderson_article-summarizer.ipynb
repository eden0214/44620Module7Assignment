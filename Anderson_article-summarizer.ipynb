{
 "cells": [
  {
   "cell_type": "markdown",
   "metadata": {},
   "source": [
    "# Eden Anderson\n",
    "## Module 7 Final Project / 44620"
   ]
  },
  {
   "cell_type": "markdown",
   "metadata": {},
   "source": [
    "# GitHub Repository Link\n",
    "https://github.com/eden0214/44620Module7Assignment"
   ]
  },
  {
   "cell_type": "markdown",
   "metadata": {},
   "source": [
    "# Web Mining and Applied NLP (44-620)\n",
    "\n",
    "## Final Project: Article Summarizer\n",
    "\n",
    "### Student Name: Eden Anderson\n",
    "\n",
    "Perform the tasks described in the Markdown cells below.  When you have completed the assignment make sure your code cells have all been run (and have output beneath them) and ensure you have committed and pushed ALL of your changes to your assignment repository.\n",
    "\n",
    "You should bring in code from previous assignments to help you answer the questions below.\n",
    "\n",
    "Every question that requires you to write code will have a code cell underneath it; you may either write your entire solution in that cell or write it in a python file (`.py`), then import and run the appropriate code to answer the question."
   ]
  },
  {
   "cell_type": "markdown",
   "metadata": {},
   "source": [
    "# Question 1"
   ]
  },
  {
   "cell_type": "markdown",
   "metadata": {},
   "source": [
    "1. Find on the internet an article or blog post about a topic that interests you and you are able to get the text for using the technologies we have applied in the course.  Get the html for the article and store it in a file (which you must submit with your project)"
   ]
  },
  {
   "cell_type": "code",
   "execution_count": 1,
   "metadata": {},
   "outputs": [],
   "source": [
    "import requests\n",
    "import pickle\n",
    "\n",
    "article_page = requests.get('https://www.history.com/news/title-nine-womens-sports')\n",
    "article_html = article_page.text\n",
    "\n",
    "\n",
    "with open('module7.pkl', 'wb') as f:\n",
    "    pickle.dump(article_page.text, f)"
   ]
  },
  {
   "cell_type": "markdown",
   "metadata": {},
   "source": [
    "# Question 2"
   ]
  },
  {
   "cell_type": "markdown",
   "metadata": {},
   "source": [
    "2. Read in your article's html source from the file you created in question 1 and do sentiment analysis on the article/post's text (use `.get_text()`).  Print the polarity score with an appropriate label.  Additionally print the number of sentences in the original article (with an appropriate label)"
   ]
  },
  {
   "cell_type": "code",
   "execution_count": 2,
   "metadata": {},
   "outputs": [
    {
     "name": "stdout",
     "output_type": "stream",
     "text": [
      "The polarity score of the sentiment analysis is  0.13897830018083182\n",
      "There are 46 sentences in this article.\n"
     ]
    }
   ],
   "source": [
    "from bs4 import BeautifulSoup\n",
    "import spacy\n",
    "from spacytextblob.spacytextblob import SpacyTextBlob\n",
    "\n",
    "parser = 'html.parser'\n",
    "\n",
    "with open('module7.pkl', 'rb') as f:\n",
    "    module7_html = pickle.load(f)\n",
    "\n",
    "soup = BeautifulSoup(module7_html, \"html.parser\")\n",
    "\n",
    "def remove_tags(html):\n",
    "    for data in soup(['style', 'script']):\n",
    "        data.decompose()\n",
    "    return ' '.join(soup.stripped_strings)\n",
    "module7_element = soup.find('article')\n",
    "\n",
    "nlp = spacy.load(\"en_core_web_sm\")\n",
    "nlp.add_pipe('spacytextblob')\n",
    "text = module7_element.get_text('article')\n",
    "doc = nlp(text)         \n",
    "\n",
    "sentences = list(doc.sents) \n",
    "\n",
    "print(\"The polarity score of the sentiment analysis is \", doc._.blob.polarity)\n",
    "print(\"There are\", len(sentences), \"sentences in this article.\")"
   ]
  },
  {
   "cell_type": "markdown",
   "metadata": {},
   "source": [
    "# Question 3"
   ]
  },
  {
   "cell_type": "markdown",
   "metadata": {},
   "source": [
    "3. Load the article text into a trained `spaCy` pipeline, and determine the 5 most frequent tokens (converted to lower case).  Print the common tokens with an appropriate label.  Additionally, print the tokens their frequencies (with appropriate labels)"
   ]
  },
  {
   "cell_type": "code",
   "execution_count": 3,
   "metadata": {},
   "outputs": [
    {
     "name": "stdout",
     "output_type": "stream",
     "text": [
      "The top 5 most frequent tokens and their frequencies are:  [('women', 26), ('title', 23), ('ix', 22), ('sports', 14), ('law', 10)]\n"
     ]
    }
   ],
   "source": [
    "from collections import Counter\n",
    "\n",
    "doc = nlp(module7_element.get_text())\n",
    "non_ws_tokens = []\n",
    "for token in doc:\n",
    "    if not token.is_space:\n",
    "        non_ws_tokens.append(token)\n",
    "\n",
    "def module7_words(token):\n",
    "    return not (token.is_space or token.is_punct or token.is_stop)\n",
    "\n",
    "interesting_tokens = [token.text.lower() for token in doc if module7_words(token)]\n",
    "\n",
    "word_freq = Counter(map(str,interesting_tokens))\n",
    "print('The top 5 most frequent tokens and their frequencies are: ', word_freq.most_common(5))\n"
   ]
  },
  {
   "cell_type": "markdown",
   "metadata": {},
   "source": [
    "# Question 4"
   ]
  },
  {
   "cell_type": "markdown",
   "metadata": {},
   "source": [
    "4. Load the article text into a trained `spaCy` pipeline, and determine the 5 most frequent lemmas (converted to lower case).  Print the common lemmas with an appropriate label.  Additionally, print the lemmas with their frequencies (with appropriate labels)."
   ]
  },
  {
   "cell_type": "code",
   "execution_count": 4,
   "metadata": {},
   "outputs": [
    {
     "name": "stdout",
     "output_type": "stream",
     "text": [
      "The top 5 most frequent lemmas and their frequencies are:  [('title', 23), ('ix', 22), ('woman', 22), ('sport', 14), ('law', 10)]\n"
     ]
    }
   ],
   "source": [
    "module7_lemmas = [token.lemma_.lower() for token in doc if module7_words(token)]\n",
    "lemma_freq = Counter(module7_lemmas)\n",
    "print('The top 5 most frequent lemmas and their frequencies are: ', lemma_freq.most_common(5))"
   ]
  },
  {
   "cell_type": "markdown",
   "metadata": {},
   "source": [
    "# Question 5"
   ]
  },
  {
   "cell_type": "markdown",
   "metadata": {},
   "source": [
    "5. Make a list containing the scores (using tokens) of every sentence in the article, and plot a histogram with appropriate titles and axis labels of the scores. From your histogram, what seems to be the most common range of scores (put the answer in a comment after your code)?"
   ]
  },
  {
   "cell_type": "code",
   "execution_count": 5,
   "metadata": {},
   "outputs": [
    {
     "name": "stdout",
     "output_type": "stream",
     "text": [
      "\n"
     ]
    },
    {
     "data": {
      "text/plain": [
       "Text(0.5, 1.0, 'Frequency of Sentence Scores (Tokens)')"
      ]
     },
     "execution_count": 5,
     "metadata": {},
     "output_type": "execute_result"
    },
    {
     "data": {
      "image/png": "[encoded data removed]",
      "text/plain": [
       "<Figure size 432x288 with 1 Axes>"
      ]
     },
     "metadata": {
      "needs_background": "light"
     },
     "output_type": "display_data"
    }
   ],
   "source": [
    "from matplotlib import pyplot as plt\n",
    "\n",
    "interesting_token = set()\n",
    "for token, freq in word_freq.most_common(5):\n",
    "    interesting_token.add(token)\n",
    "\n",
    "sentences = list(doc.sents) \n",
    "top_tokens = ['women', 'title', 'ix', 'sports', 'law']\n",
    "\n",
    "def wordcount(sent):\n",
    "    count = 0\n",
    "    for token in sent:\n",
    "        if not(token.is_space or token.is_punct):\n",
    "            count += 1\n",
    "    return count\n",
    "print()\n",
    "\n",
    "def score_token(sentence, interesting_token):\n",
    "    total = wordcount(sentence)\n",
    "    for i in range(len(sentences)):\n",
    "        sentence = sentences[i]\n",
    "    for sentence in sentences:\n",
    "        count = 0\n",
    "        for token in sentence:\n",
    "            if token.text.lower() in interesting_token:\n",
    "                count += 1\n",
    "        return count/total\n",
    "\n",
    "S1 = sentences[0]\n",
    "f1 = score_token(S1, top_tokens)\n",
    "S2 = sentences[1]\n",
    "f2 = score_token(S2, top_tokens)               \n",
    "S3 = sentences[2]\n",
    "f3 = score_token(S3, top_tokens)               \n",
    "S4 = sentences[3]\n",
    "f4 = score_token(S4, top_tokens)\n",
    "S5 = sentences[4]\n",
    "f5 = score_token(S5, top_tokens)\n",
    "S6 = sentences[5]\n",
    "f6 = score_token(S6, top_tokens)\n",
    "S7 = sentences[6]\n",
    "f7 = score_token(S7, top_tokens)\n",
    "S8 = sentences[7]\n",
    "f8 = score_token(S8, interesting_token)\n",
    "S9 = sentences[8]\n",
    "f9 = score_token(S9, interesting_token)\n",
    "S10 = sentences[9]\n",
    "f10 = score_token(S10, interesting_token)\n",
    "S11 = sentences[10]\n",
    "f11 = score_token(S11, interesting_token)\n",
    "S12 = sentences[11]\n",
    "f12 = score_token(S12, interesting_token)\n",
    "S13 = sentences[12]\n",
    "f13 = score_token(S13, interesting_token)\n",
    "S14 = sentences[13]\n",
    "f14 = score_token(S14, interesting_token)\n",
    "S15 = sentences[14]\n",
    "f15 = score_token(S15, interesting_token)\n",
    "S16 = sentences[15]\n",
    "f16 = score_token(S16, interesting_token)\n",
    "S17 = sentences[16]\n",
    "f17 = score_token(S17, interesting_token)\n",
    "S18 = sentences[17]\n",
    "f18 = score_token(S18, interesting_token)\n",
    "S19 = sentences[18]\n",
    "f19 = score_token(S19, interesting_token)\n",
    "S20 = sentences[19]\n",
    "f20 = score_token(S20, interesting_token)\n",
    "S21 = sentences[20]\n",
    "f21 = score_token(S21, interesting_token)\n",
    "S22 = sentences[21]\n",
    "f22 = score_token(S22, interesting_token)\n",
    "S23 = sentences[22]\n",
    "f23 = score_token(S23, interesting_token)\n",
    "S24 = sentences[23]\n",
    "f24 = score_token(S24, interesting_token)\n",
    "S25 = sentences[24]\n",
    "f25 = score_token(S25, interesting_token)\n",
    "S26 = sentences[25]\n",
    "f26 = score_token(S26, interesting_token)\n",
    "S27 = sentences[26]\n",
    "f27 = score_token(S27, interesting_token)\n",
    "S28 = sentences[27]\n",
    "f28 = score_token(S28, interesting_token)\n",
    "S29 = sentences[28]\n",
    "f29 = score_token(S29, interesting_token)\n",
    "S30 = sentences[29]\n",
    "f30 = score_token(S30, interesting_token)\n",
    "S31 = sentences[30]\n",
    "f31 = score_token(S31, interesting_token)\n",
    "S32 = sentences[31]\n",
    "f32 = score_token(S32, interesting_token)\n",
    "S33 = sentences[32]\n",
    "f33 = score_token(S33, interesting_token)\n",
    "S34 = sentences[33]\n",
    "f34 = score_token(S34, interesting_token)\n",
    "S35 = sentences[34]\n",
    "f35 = score_token(S35, interesting_token)\n",
    "S36 = sentences[35]\n",
    "f36 = score_token(S36, interesting_token)\n",
    "S37 = sentences[36]\n",
    "f37 = score_token(S37, interesting_token)\n",
    "S38 = sentences[37]\n",
    "f38 = score_token(S38, interesting_token)\n",
    "S39 = sentences[38]\n",
    "f39 = score_token(S39, interesting_token)\n",
    "S40 = sentences[39]\n",
    "f40 = score_token(S40, interesting_token)\n",
    "S41 = sentences[40]\n",
    "f41 = score_token(S41, interesting_token)\n",
    "S42 = sentences[41]\n",
    "f42 = score_token(S42, interesting_token)\n",
    "S43 = sentences[42]\n",
    "f43 = score_token(S43, interesting_token)\n",
    "S44 = sentences[43]\n",
    "f44 = score_token(S44, interesting_token)\n",
    "S45 = sentences[44]\n",
    "f45 = score_token(S45, interesting_token)\n",
    "S46 = sentences[45]\n",
    "f46 = score_token(S46, interesting_token)\n",
    "\n",
    "token_list = [f1,f2,f3,f4,f5,f6,f7,f8,f9,f10,f11,f12,f13,f14,f15,f16,f17,f18,f19,f20,\n",
    "              f21,f22,f23,f24,f25,f26,f27,f28,f29,f30,f31,f32,f33,f34,f35,f36,f37,f38,\n",
    "              f39,f40,f41,f42,f43,f44,f45,f46]\n",
    "\n",
    "final_token_list = token_list\n",
    "\n",
    "x = token_list\n",
    "plt.hist(x)\n",
    "plt.xlabel('Sentence Scores')\n",
    "plt.ylabel('Frequency of Score')\n",
    "plt.title(\"Frequency of Sentence Scores (Tokens)\")"
   ]
  },
  {
   "cell_type": "markdown",
   "metadata": {},
   "source": [
    "### Question 5 Answer\n",
    "From your histogram, what seems to be the most common range of scores:\n",
    "The most common range of scores with tokens is between 0.1 through 0.25, as the vast majority of the scores appear in this range."
   ]
  },
  {
   "cell_type": "markdown",
   "metadata": {},
   "source": [
    "# Question 6"
   ]
  },
  {
   "cell_type": "markdown",
   "metadata": {},
   "source": [
    "6. Make a list containing the scores (using lemmas) of every sentence in the article, and plot a histogram with appropriate titles and axis labels of the scores.  From your histogram, what seems to be the most common range of scores (put the answer in a comment after your code)?"
   ]
  },
  {
   "cell_type": "code",
   "execution_count": 6,
   "metadata": {},
   "outputs": [
    {
     "data": {
      "text/plain": [
       "Text(0.5, 1.0, 'Frequency of Sentence Scores (Lemmas)')"
      ]
     },
     "execution_count": 6,
     "metadata": {},
     "output_type": "execute_result"
    },
    {
     "data": {
      "image/png": "[encoded data removed]",
      "text/plain": [
       "<Figure size 432x288 with 1 Axes>"
      ]
     },
     "metadata": {
      "needs_background": "light"
     },
     "output_type": "display_data"
    }
   ],
   "source": [
    "interesting_lemma = set()\n",
    "for lemma, freq in word_freq.most_common(5):\n",
    "    interesting_lemma.add(lemma)\n",
    "\n",
    "sentences = list(doc.sents) \n",
    "top_lemmas = ['title', 'ix', 'woman', 'sport', 'law']\n",
    "\n",
    "def score_lemma(sentence, interesting_lemma):\n",
    "    total = wordcount(sentence)\n",
    "    for i in range(len(sentences)):\n",
    "        sentence = sentences[i]\n",
    "    for sentence in sentences:\n",
    "        count = 0\n",
    "        for token in sentence:\n",
    "            if token.lemma_.lower() in interesting_lemma:\n",
    "                count += 1\n",
    "        return count/total\n",
    "    \n",
    "S1 = sentences[0]\n",
    "f1 = score_lemma(S1, interesting_lemma)\n",
    "S2 = sentences[1]\n",
    "f2 = score_lemma(S2, interesting_lemma)               \n",
    "S3 = sentences[2]\n",
    "f3 = score_lemma(S3, interesting_lemma)               \n",
    "S4 = sentences[3]\n",
    "f4 = score_lemma(S4, interesting_lemma)\n",
    "S5 = sentences[4]\n",
    "f5 = score_lemma(S5, interesting_lemma)\n",
    "S6 = sentences[5]\n",
    "f6 = score_lemma(S6, interesting_lemma)\n",
    "S7 = sentences[6]\n",
    "f7 = score_lemma(S7, interesting_lemma)\n",
    "S8 = sentences[7]\n",
    "f8 = score_lemma(S8, interesting_lemma)\n",
    "S9 = sentences[8]\n",
    "f9 = score_lemma(S9, interesting_lemma)\n",
    "S10 = sentences[9]\n",
    "f10 = score_lemma(S10, interesting_lemma)\n",
    "S11 = sentences[10]\n",
    "f11 = score_lemma(S11, interesting_lemma)\n",
    "S12 = sentences[11]\n",
    "f12 = score_lemma(S12, interesting_lemma)\n",
    "S13 = sentences[12]\n",
    "f13 = score_lemma(S13, interesting_lemma)\n",
    "S14 = sentences[13]\n",
    "f14 = score_lemma(S14, interesting_lemma)\n",
    "S15 = sentences[14]\n",
    "f15 = score_lemma(S15, interesting_lemma)\n",
    "S16 = sentences[15]\n",
    "f16 = score_lemma(S16, interesting_lemma)\n",
    "S17 = sentences[16]\n",
    "f17 = score_lemma(S17, interesting_lemma)\n",
    "S18 = sentences[17]\n",
    "f18 = score_lemma(S18, interesting_lemma)\n",
    "S19 = sentences[18]\n",
    "f19 = score_lemma(S19, interesting_lemma)\n",
    "S20 = sentences[19]\n",
    "f20 = score_lemma(S20, interesting_lemma)\n",
    "S21 = sentences[20]\n",
    "f21 = score_lemma(S21, interesting_lemma)\n",
    "S22 = sentences[21]\n",
    "f22 = score_lemma(S22, interesting_lemma)\n",
    "S23 = sentences[22]\n",
    "f23 = score_lemma(S23, interesting_lemma)\n",
    "S24 = sentences[23]\n",
    "f24 = score_lemma(S24, interesting_lemma)\n",
    "S25 = sentences[24]\n",
    "f25 = score_lemma(S25, interesting_lemma)\n",
    "S26 = sentences[25]\n",
    "f26 = score_lemma(S26, interesting_lemma)\n",
    "S27 = sentences[26]\n",
    "f27 = score_lemma(S27, interesting_lemma)\n",
    "S28 = sentences[27]\n",
    "f28 = score_lemma(S28, interesting_lemma)\n",
    "S29 = sentences[29]\n",
    "f29 = score_lemma(S29, interesting_lemma)\n",
    "S30 = sentences[29]\n",
    "f30 = score_lemma(S30, interesting_lemma)\n",
    "S31 = sentences[30]\n",
    "f31 = score_lemma(S31, interesting_lemma)\n",
    "S32 = sentences[31]\n",
    "f32 = score_lemma(S32, interesting_lemma)\n",
    "S33 = sentences[32]\n",
    "f33 = score_lemma(S33, interesting_lemma)\n",
    "S34 = sentences[33]\n",
    "f34 = score_lemma(S34, interesting_lemma)\n",
    "S35 = sentences[34]\n",
    "f35 = score_lemma(S35, interesting_lemma)\n",
    "S36 = sentences[35]\n",
    "f36 = score_lemma(S36, interesting_lemma)\n",
    "S43 = sentences[42]\n",
    "f43 = score_lemma(S43, interesting_lemma)\n",
    "S44 = sentences[43]\n",
    "f44 = score_lemma(S44, interesting_lemma)\n",
    "S45 = sentences[44]\n",
    "f45 = score_lemma(S45, interesting_lemma)\n",
    "S46 = sentences[45]\n",
    "f46 = score_lemma(S46, interesting_lemma)\n",
    "\n",
    "lemma_list = [f1,f2,f3,f4,f5,f6,f7,f8,f9,f10,f11,f12,f13,f14,f15,f16,f17,f18,f19,f20,\n",
    "              f21,f22,f23,f24,f25,f26,f27,f28,f29,f30,f31,f32,f33,f34,f35,f36,f37,f38,\n",
    "              f39,f40,f41,f42,f43,f44,f45,f46]\n",
    "\n",
    "final_lemma_list = lemma_list\n",
    "\n",
    "x = lemma_list\n",
    "plt.hist(x)\n",
    "plt.xlabel('Sentence Scores')\n",
    "plt.ylabel('Frequency of Score')\n",
    "plt.title(\"Frequency of Sentence Scores (Lemmas)\")"
   ]
  },
  {
   "cell_type": "markdown",
   "metadata": {},
   "source": [
    "### Question 6 Answer\n",
    "From your histogram, what seems to be the most common range of scores:\n",
    "Similarly to the scores with tokens, the most common range of scores with lemmas is between 0.05 through 0.25, but the distribution was different - with a peak around 0.15."
   ]
  },
  {
   "cell_type": "markdown",
   "metadata": {},
   "source": [
    "# Question 7"
   ]
  },
  {
   "cell_type": "markdown",
   "metadata": {},
   "source": [
    "7. Using the histograms from questions 5 and 6, decide a \"cutoff\" score for tokens and lemmas such that fewer than half the sentences would have a score greater than the cutoff score.  Record the scores in this Markdown cell\n",
    "\n",
    "* Cutoff Score (tokens): \n",
    "* Cutoff Score (lemmas):\n",
    "\n",
    "Feel free to change these scores as you generate your summaries.  Ideally, we're shooting for at least 6 sentences for our summary, but don't want more than 10 (these numbers are rough estimates; they depend on the length of your article)."
   ]
  },
  {
   "cell_type": "markdown",
   "metadata": {},
   "source": [
    "### Question 7 Answer:\n",
    "Cutoff Score (tokens):  0.30\n",
    "\n",
    "Cutoff Score (lemmas):  0.25"
   ]
  },
  {
   "cell_type": "markdown",
   "metadata": {},
   "source": [
    "# Question 8"
   ]
  },
  {
   "cell_type": "markdown",
   "metadata": {},
   "source": [
    "8. Create a summary of the article by going through every sentence in the article and adding it to an (initially) empty list if its score (based on tokens) is greater than the cutoff score you identified in question 8.  If your loop variable is named `sent`, you may find it easier to add `sent.text.strip()` to your list of sentences.  Print the summary (I would cleanly generate the summary text by `join`ing the strings in your list together with a space (`' '.join(sentence_list)`)."
   ]
  },
  {
   "cell_type": "code",
   "execution_count": 7,
   "metadata": {},
   "outputs": [
    {
     "name": "stdout",
     "output_type": "stream",
     "text": [
      "[]\n"
     ]
    }
   ],
   "source": [
    "lemma_cutoff = 0.25\n",
    "\n",
    "def summary_lemma(sentence, interesting_lemma):\n",
    "    lst = []\n",
    "    total = wordcount(sentence)\n",
    "    for i in range(len(sentences)):\n",
    "        sentence = sentences[i]\n",
    "    for sentence in sentences:\n",
    "        count = 0\n",
    "        for token in sentence:\n",
    "            if token.lemma_.lower() in interesting_lemma:\n",
    "                count += 1\n",
    "        if count/total >= token_cutoff:\n",
    "            lst.append(sentences[i])\n",
    "        else: \n",
    "            return 0\n",
    "    updated_list.append(lst)\n",
    "\n",
    "\n",
    "lemma_summary = []\n",
    "\n",
    "for i in lemma_summary:\n",
    "    for item in final_lemma_list:\n",
    "        if i > lemma_cutoff:\n",
    "            lemma_summary.append(sentences(i))\n",
    "            #my_list.append(item)\n",
    "\n",
    "\n",
    "print(lemma_summary)"
   ]
  },
  {
   "cell_type": "markdown",
   "metadata": {},
   "source": [
    "# Question 9"
   ]
  },
  {
   "cell_type": "markdown",
   "metadata": {},
   "source": [
    "9. Print the polarity score of your summary you generated with the token scores (with an appropriate label). Additionally, print the number of sentences in the summarized article."
   ]
  },
  {
   "cell_type": "code",
   "execution_count": null,
   "metadata": {},
   "outputs": [],
   "source": []
  },
  {
   "cell_type": "markdown",
   "metadata": {},
   "source": [
    "# Question 10"
   ]
  },
  {
   "cell_type": "markdown",
   "metadata": {},
   "source": [
    "10. Create a summary of the article by going through every sentence in the article and adding it to an (initially) empty list if its score (based on lemmas) is greater than the cutoff score you identified in question 8.  If your loop variable is named `sent`, you may find it easier to add `sent.text.strip()` to your list of sentences.  Print the summary (I would cleanly generate the summary text by `join`ing the strings in your list together with a space (`' '.join(sentence_list)`)."
   ]
  },
  {
   "cell_type": "code",
   "execution_count": null,
   "metadata": {},
   "outputs": [],
   "source": []
  },
  {
   "cell_type": "markdown",
   "metadata": {},
   "source": [
    "# Question 11"
   ]
  },
  {
   "cell_type": "markdown",
   "metadata": {},
   "source": [
    "11. Print the polarity score of your summary you generated with the lemma scores (with an appropriate label). Additionally, print the number of sentences in the summarized article."
   ]
  },
  {
   "cell_type": "code",
   "execution_count": null,
   "metadata": {},
   "outputs": [],
   "source": []
  },
  {
   "cell_type": "markdown",
   "metadata": {},
   "source": [
    "# Question 12"
   ]
  },
  {
   "cell_type": "markdown",
   "metadata": {},
   "source": [
    "12.  Compare your polarity scores of your summaries to the polarity scores of the initial article.  Is there a difference?  Why do you think that may or may not be?.  Answer in this Markdown cell.  "
   ]
  },
  {
   "cell_type": "markdown",
   "metadata": {},
   "source": [
    "# Question 13"
   ]
  },
  {
   "cell_type": "markdown",
   "metadata": {},
   "source": [
    "13. Based on your reading of the original article, which summary do you think is better (if there's a difference).  Why do you think this might be?"
   ]
  }
 ],
 "metadata": {
  "kernelspec": {
   "display_name": "Python 3 (ipykernel)",
   "language": "python",
   "name": "python3"
  },
  "language_info": {
   "codemirror_mode": {
    "name": "ipython",
    "version": 3
   },
   "file_extension": ".py",
   "mimetype": "text/x-python",
   "name": "python",
   "nbconvert_exporter": "python",
   "pygments_lexer": "ipython3",
   "version": "3.8.13"
  }
 },
 "nbformat": 4,
 "nbformat_minor": 4
}
